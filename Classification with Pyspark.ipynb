{
  "nbformat": 4,
  "nbformat_minor": 0,
  "metadata": {
    "colab": {
      "provenance": [],
      "collapsed_sections": [
        "x7nfzftEqebo",
        "llUWncCgKWgZ"
      ]
    },
    "kernelspec": {
      "name": "python3",
      "display_name": "Python 3"
    },
    "language_info": {
      "name": "python"
    }
  },
  "cells": [
    {
      "cell_type": "markdown",
      "source": [
        "**ANGEL METANOSA AFINDA (NIM: 2301212013)**"
      ],
      "metadata": {
        "id": "r7j3BWrC7UGu"
      }
    },
    {
      "cell_type": "markdown",
      "source": [
        "## **Setup Apache for Spark**"
      ],
      "metadata": {
        "id": "8VMJn_fk7d08"
      }
    },
    {
      "cell_type": "code",
      "source": [
        "!pip install pyspark"
      ],
      "metadata": {
        "colab": {
          "base_uri": "https://localhost:8080/"
        },
        "id": "uxaq3h_NHGOf",
        "outputId": "755b63b2-257d-45c6-b7bd-53b58b03e1e5"
      },
      "execution_count": null,
      "outputs": [
        {
          "output_type": "stream",
          "name": "stdout",
          "text": [
            "Looking in indexes: https://pypi.org/simple, https://us-python.pkg.dev/colab-wheels/public/simple/\n",
            "Collecting pyspark\n",
            "  Downloading pyspark-3.3.1.tar.gz (281.4 MB)\n",
            "\u001b[K     |████████████████████████████████| 281.4 MB 31 kB/s \n",
            "\u001b[?25hCollecting py4j==0.10.9.5\n",
            "  Downloading py4j-0.10.9.5-py2.py3-none-any.whl (199 kB)\n",
            "\u001b[K     |████████████████████████████████| 199 kB 27.3 MB/s \n",
            "\u001b[?25hBuilding wheels for collected packages: pyspark\n",
            "  Building wheel for pyspark (setup.py) ... \u001b[?25l\u001b[?25hdone\n",
            "  Created wheel for pyspark: filename=pyspark-3.3.1-py2.py3-none-any.whl size=281845512 sha256=11e4c95cf40c50705498ea352600515fc1b6b9f0983bf80395725a3a6c30557f\n",
            "  Stored in directory: /root/.cache/pip/wheels/43/dc/11/ec201cd671da62fa9c5cc77078235e40722170ceba231d7598\n",
            "Successfully built pyspark\n",
            "Installing collected packages: py4j, pyspark\n",
            "Successfully installed py4j-0.10.9.5 pyspark-3.3.1\n"
          ]
        }
      ]
    },
    {
      "cell_type": "code",
      "source": [
        "# install java\n",
        "!apt-get install openjdk-8-jdk-headless -qq > /dev/null\n",
        "\n",
        "# install spark (change the version number if needed)\n",
        "!wget -q https://archive.apache.org/dist/spark/spark-3.0.0/spark-3.0.0-bin-hadoop3.2.tgz\n",
        "\n",
        "# unzip the spark file to the current folder\n",
        "!tar xf spark-3.0.0-bin-hadoop3.2.tgz\n",
        "\n",
        "# set your spark folder to your system path environment. \n",
        "import os\n",
        "os.environ[\"JAVA_HOME\"] = \"/usr/lib/jvm/java-8-openjdk-amd64\"\n",
        "os.environ[\"SPARK_HOME\"] = \"/content/spark-3.0.0-bin-hadoop3.2\"\n",
        "\n",
        "\n",
        "# install findspark using pip\n",
        "!pip install -q findspark"
      ],
      "metadata": {
        "id": "gRNtf0Lp7k2B"
      },
      "execution_count": null,
      "outputs": []
    },
    {
      "cell_type": "code",
      "source": [
        "import findspark\n",
        "findspark.init()"
      ],
      "metadata": {
        "id": "iOi1Bcq47m6A"
      },
      "execution_count": null,
      "outputs": []
    },
    {
      "cell_type": "code",
      "source": [
        "from pyspark.sql import SparkSession\n",
        "\n",
        "spark = SparkSession.builder\\\n",
        "        .master(\"local\")\\\n",
        "        .appName(\"Colab\")\\\n",
        "        .config('spark.ui.port', '4050')\\\n",
        "        .getOrCreate()"
      ],
      "metadata": {
        "id": "e1taE43y7o3U"
      },
      "execution_count": null,
      "outputs": []
    },
    {
      "cell_type": "markdown",
      "source": [
        "# **Import Library**"
      ],
      "metadata": {
        "id": "WrAXIZ8e7rDI"
      }
    },
    {
      "cell_type": "code",
      "source": [
        "import pandas as pd\n",
        "import numpy as np\n",
        "from matplotlib import pyplot as plt  # Untuk visualisasi\n",
        "import seaborn as sns                 # Untuk visualisasi\n",
        "plt.style.use(\"seaborn\")"
      ],
      "metadata": {
        "id": "5HMlTt_beHxp"
      },
      "execution_count": null,
      "outputs": []
    },
    {
      "cell_type": "markdown",
      "source": [
        "# **Import and Load Dataset**"
      ],
      "metadata": {
        "id": "y_7tjbYY7qi2"
      }
    },
    {
      "cell_type": "code",
      "source": [
        "from google.colab import drive\n",
        "drive.mount('/content/drive')"
      ],
      "metadata": {
        "id": "34XCeQVs755y",
        "colab": {
          "base_uri": "https://localhost:8080/"
        },
        "outputId": "c8d7f482-b1d4-4fc5-bf0b-b7e1eb29d575"
      },
      "execution_count": null,
      "outputs": [
        {
          "output_type": "stream",
          "name": "stdout",
          "text": [
            "Mounted at /content/drive\n"
          ]
        }
      ]
    },
    {
      "cell_type": "code",
      "source": [
        "df = spark.read.csv(\"/content/drive/MyDrive/Magister Informatika/Big Data Analysis/Tugas Clustering/ObesityDataSet_raw_and_data_sinthetic.csv\", header=True, inferSchema=True)"
      ],
      "metadata": {
        "id": "2MWwSRAme57M"
      },
      "execution_count": null,
      "outputs": []
    },
    {
      "cell_type": "code",
      "source": [
        "df.printSchema()"
      ],
      "metadata": {
        "colab": {
          "base_uri": "https://localhost:8080/"
        },
        "id": "mzQ-spw8fkmr",
        "outputId": "6ccad850-df5c-4740-be42-3a10bb4e9916"
      },
      "execution_count": null,
      "outputs": [
        {
          "output_type": "stream",
          "name": "stdout",
          "text": [
            "root\n",
            " |-- Gender: string (nullable = true)\n",
            " |-- Age: double (nullable = true)\n",
            " |-- Height: double (nullable = true)\n",
            " |-- Weight: double (nullable = true)\n",
            " |-- family_history_with_overweight: string (nullable = true)\n",
            " |-- FAVC: string (nullable = true)\n",
            " |-- FCVC: double (nullable = true)\n",
            " |-- NCP: double (nullable = true)\n",
            " |-- CAEC: string (nullable = true)\n",
            " |-- SMOKE: string (nullable = true)\n",
            " |-- CH2O: double (nullable = true)\n",
            " |-- SCC: string (nullable = true)\n",
            " |-- FAF: double (nullable = true)\n",
            " |-- TUE: double (nullable = true)\n",
            " |-- CALC: string (nullable = true)\n",
            " |-- MTRANS: string (nullable = true)\n",
            " |-- NObeyesdad: string (nullable = true)\n",
            "\n"
          ]
        }
      ]
    },
    {
      "cell_type": "markdown",
      "source": [
        "# **Data Exploration**"
      ],
      "metadata": {
        "id": "QUjY7CV3Fuft"
      }
    },
    {
      "cell_type": "code",
      "source": [
        "df.show(4,False)"
      ],
      "metadata": {
        "colab": {
          "base_uri": "https://localhost:8080/"
        },
        "id": "omuu3jmCglDj",
        "outputId": "a9bdec1b-466f-4389-f389-651985bc5fc2"
      },
      "execution_count": null,
      "outputs": [
        {
          "output_type": "stream",
          "name": "stdout",
          "text": [
            "+------+----+------+------+------------------------------+----+----+---+---------+-----+----+---+---+---+----------+---------------------+------------------+\n",
            "|Gender|Age |Height|Weight|family_history_with_overweight|FAVC|FCVC|NCP|CAEC     |SMOKE|CH2O|SCC|FAF|TUE|CALC      |MTRANS               |NObeyesdad        |\n",
            "+------+----+------+------+------------------------------+----+----+---+---------+-----+----+---+---+---+----------+---------------------+------------------+\n",
            "|Female|21.0|1.62  |64.0  |yes                           |no  |2.0 |3.0|Sometimes|no   |2.0 |no |0.0|1.0|no        |Public_Transportation|Normal_Weight     |\n",
            "|Female|21.0|1.52  |56.0  |yes                           |no  |3.0 |3.0|Sometimes|yes  |3.0 |yes|3.0|0.0|Sometimes |Public_Transportation|Normal_Weight     |\n",
            "|Male  |23.0|1.8   |77.0  |yes                           |no  |2.0 |3.0|Sometimes|no   |2.0 |no |2.0|1.0|Frequently|Public_Transportation|Normal_Weight     |\n",
            "|Male  |27.0|1.8   |87.0  |no                            |no  |3.0 |3.0|Sometimes|no   |2.0 |no |2.0|0.0|Frequently|Walking              |Overweight_Level_I|\n",
            "+------+----+------+------+------------------------------+----+----+---+---------+-----+----+---+---+---+----------+---------------------+------------------+\n",
            "only showing top 4 rows\n",
            "\n"
          ]
        }
      ]
    },
    {
      "cell_type": "code",
      "source": [
        "df.count()"
      ],
      "metadata": {
        "colab": {
          "base_uri": "https://localhost:8080/"
        },
        "id": "zSC54xJFgqHk",
        "outputId": "f2225671-5d23-416c-e1b5-66c6de81580b"
      },
      "execution_count": null,
      "outputs": [
        {
          "output_type": "execute_result",
          "data": {
            "text/plain": [
              "2111"
            ]
          },
          "metadata": {},
          "execution_count": 10
        }
      ]
    },
    {
      "cell_type": "code",
      "source": [
        "print(\"Jumlah data sebelum drop null:\", df.count())\n",
        "df = df.na.drop(\"any\")\n",
        "print(\"Jumlah data setelah drop null : \",df.count())"
      ],
      "metadata": {
        "colab": {
          "base_uri": "https://localhost:8080/"
        },
        "id": "xSRH8heXF3Wl",
        "outputId": "331f07fe-9039-4b44-9bce-6c70574a4c7f"
      },
      "execution_count": null,
      "outputs": [
        {
          "output_type": "stream",
          "name": "stdout",
          "text": [
            "Jumlah data sebelum drop null: 2111\n",
            "Jumlah data setelah drop null :  2111\n"
          ]
        }
      ]
    },
    {
      "cell_type": "markdown",
      "source": [
        "# **Data Pre-Processing**"
      ],
      "metadata": {
        "id": "XmA830AjJlm1"
      }
    },
    {
      "cell_type": "markdown",
      "source": [
        "## **Convert The Categorical Value to Numeric Value**"
      ],
      "metadata": {
        "id": "3QvhAWgGJqER"
      }
    },
    {
      "cell_type": "code",
      "source": [
        "# import packages\n",
        "from pyspark.ml.feature import StringIndexer, OneHotEncoder\n",
        "\n",
        "# conversion\n",
        "indexer_family = StringIndexer(inputCol='family_history_with_overweight', outputCol='family_history_with_overweight_numeric').fit(df)\n",
        "indexed_df_family = indexer_family.transform(df)\n",
        "indexed_df_family_1  = indexed_df_family.drop('family_history_with_overweight')\n",
        "\n",
        "indexer_FAVC = StringIndexer(inputCol='FAVC', outputCol='FAVC_numeric').fit(indexed_df_family_1)\n",
        "indexed_df_FAVC = indexer_FAVC.transform(indexed_df_family_1)\n",
        "indexed_df_FAVC_1  = indexed_df_FAVC.drop('FAVC')\n",
        "\n",
        "indexer_CAEC = StringIndexer(inputCol='CAEC', outputCol='CAEC_numeric').fit(indexed_df_FAVC_1)\n",
        "indexed_df_CAEC = indexer_CAEC.transform(indexed_df_FAVC_1)\n",
        "indexed_df_CAEC_1  = indexed_df_CAEC.drop('CAEC')\n",
        "\n",
        "indexer_MTRANS = StringIndexer(inputCol='MTRANS', outputCol='MTRANS_numeric').fit(indexed_df_CAEC_1)\n",
        "indexed_df_MTRANS = indexer_MTRANS.transform(indexed_df_CAEC_1)\n",
        "indexed_df_MTRANS_1  = indexed_df_MTRANS.drop('MTRANS')\n",
        "\n",
        "indexer_SCC = StringIndexer(inputCol='SCC', outputCol='SCC_numeric').fit(indexed_df_MTRANS_1)\n",
        "indexed_df_SCC = indexer_SCC.transform(indexed_df_MTRANS_1)\n",
        "indexed_df_SCC_1  = indexed_df_SCC.drop('SCC')\n",
        "\n",
        "indexer_CALC = StringIndexer(inputCol='CALC', outputCol='CALC_numeric').fit(indexed_df_SCC_1)\n",
        "indexed_df_CALC = indexer_CALC.transform(indexed_df_SCC_1)\n",
        "indexed_df_CALC_1 = indexed_df_CALC.drop('CALC')\n",
        "\n",
        "indexer_SMOKE = StringIndexer(inputCol='SMOKE', outputCol='SMOKE_numeric').fit(indexed_df_CALC_1)\n",
        "indexed_df_SMOKE = indexer_SMOKE.transform(indexed_df_CALC_1)\n",
        "indexed_df_SMOKE_1 = indexed_df_SMOKE.drop('SMOKE')\n",
        "\n",
        "indexer_NObeyesdad = StringIndexer(inputCol='NObeyesdad', outputCol='NObeyesdad_numeric').fit(indexed_df_SMOKE_1)\n",
        "indexed_df_NObeyesdad = indexer_NObeyesdad.transform(indexed_df_SMOKE_1)\n",
        "indexed_df_NObeyesdad_1 = indexed_df_NObeyesdad.drop('NObeyesdad')\n",
        "\n",
        "indexer_Gender = StringIndexer(inputCol='Gender', outputCol='Gender_numeric').fit(indexed_df_NObeyesdad_1)\n",
        "indexed_df_Gender = indexer_Gender.transform(indexed_df_NObeyesdad_1)\n",
        "indexed_df_fix = indexed_df_Gender.drop('Gender')\n",
        "\n",
        "indexed_df_fix.show(2, False)"
      ],
      "metadata": {
        "colab": {
          "base_uri": "https://localhost:8080/"
        },
        "id": "PW-XG6xcaNxu",
        "outputId": "ed5651f9-1a98-4de2-b440-8b7427702063"
      },
      "execution_count": null,
      "outputs": [
        {
          "output_type": "stream",
          "name": "stdout",
          "text": [
            "+----+------+------+----+---+----+---+---+--------------------------------------+------------+------------+--------------+-----------+------------+-------------+------------------+--------------+\n",
            "|Age |Height|Weight|FCVC|NCP|CH2O|FAF|TUE|family_history_with_overweight_numeric|FAVC_numeric|CAEC_numeric|MTRANS_numeric|SCC_numeric|CALC_numeric|SMOKE_numeric|NObeyesdad_numeric|Gender_numeric|\n",
            "+----+------+------+----+---+----+---+---+--------------------------------------+------------+------------+--------------+-----------+------------+-------------+------------------+--------------+\n",
            "|21.0|1.62  |64.0  |2.0 |3.0|2.0 |0.0|1.0|0.0                                   |1.0         |0.0         |0.0           |0.0        |1.0         |0.0          |5.0               |1.0           |\n",
            "|21.0|1.52  |56.0  |3.0 |3.0|3.0 |3.0|0.0|0.0                                   |1.0         |0.0         |0.0           |1.0        |0.0         |1.0          |5.0               |1.0           |\n",
            "+----+------+------+----+---+----+---+---+--------------------------------------+------------+------------+--------------+-----------+------------+-------------+------------------+--------------+\n",
            "only showing top 2 rows\n",
            "\n"
          ]
        }
      ]
    },
    {
      "cell_type": "code",
      "source": [
        "indexed_df_fix.groupBy('NObeyesdad_numeric').count().show()"
      ],
      "metadata": {
        "id": "r1B2KkO5k_sO",
        "colab": {
          "base_uri": "https://localhost:8080/"
        },
        "outputId": "0633be29-14f2-4092-94e2-c27ca92ab03a"
      },
      "execution_count": null,
      "outputs": [
        {
          "output_type": "stream",
          "name": "stdout",
          "text": [
            "+------------------+-----+\n",
            "|NObeyesdad_numeric|count|\n",
            "+------------------+-----+\n",
            "|               0.0|  351|\n",
            "|               1.0|  324|\n",
            "|               4.0|  290|\n",
            "|               3.0|  290|\n",
            "|               2.0|  297|\n",
            "|               6.0|  272|\n",
            "|               5.0|  287|\n",
            "+------------------+-----+\n",
            "\n"
          ]
        }
      ]
    },
    {
      "cell_type": "markdown",
      "source": [
        "# **Vector Assembler**"
      ],
      "metadata": {
        "id": "euacVnDUJ80R"
      }
    },
    {
      "cell_type": "code",
      "source": [
        "#In PySpark, all columns except the target need to be converted to a vector, which we call it features.\n",
        "from pyspark.ml.feature import VectorAssembler\n",
        "\n",
        "assembler = VectorAssembler( \n",
        "inputCols = ['Gender_numeric', 'Age', 'Height', 'Weight', 'family_history_with_overweight_numeric', \n",
        "           'FAVC_numeric', 'FCVC', 'NCP', 'CAEC_numeric', 'SMOKE_numeric', 'CH2O', 'SCC_numeric', 'FAF',\n",
        "           'TUE', 'CALC_numeric', 'MTRANS_numeric'], \n",
        "outputCol = 'features')\n",
        "output = assembler.transform (indexed_df_fix)"
      ],
      "metadata": {
        "id": "bDrjMavU5mE8"
      },
      "execution_count": null,
      "outputs": []
    },
    {
      "cell_type": "code",
      "source": [
        "output.show(2, False)"
      ],
      "metadata": {
        "colab": {
          "base_uri": "https://localhost:8080/"
        },
        "id": "tjrj2EEXiceA",
        "outputId": "3eccb637-ffd6-4a8e-bad8-3dc20b05e62e"
      },
      "execution_count": null,
      "outputs": [
        {
          "output_type": "stream",
          "name": "stdout",
          "text": [
            "+----+------+------+----+---+----+---+---+--------------------------------------+------------+------------+--------------+-----------+------------+-------------+------------------+--------------+--------------------------------------------------------------------+\n",
            "|Age |Height|Weight|FCVC|NCP|CH2O|FAF|TUE|family_history_with_overweight_numeric|FAVC_numeric|CAEC_numeric|MTRANS_numeric|SCC_numeric|CALC_numeric|SMOKE_numeric|NObeyesdad_numeric|Gender_numeric|features                                                            |\n",
            "+----+------+------+----+---+----+---+---+--------------------------------------+------------+------------+--------------+-----------+------------+-------------+------------------+--------------+--------------------------------------------------------------------+\n",
            "|21.0|1.62  |64.0  |2.0 |3.0|2.0 |0.0|1.0|0.0                                   |1.0         |0.0         |0.0           |0.0        |1.0         |0.0          |5.0               |1.0           |[1.0,21.0,1.62,64.0,0.0,1.0,2.0,3.0,0.0,0.0,2.0,0.0,0.0,1.0,1.0,0.0]|\n",
            "|21.0|1.52  |56.0  |3.0 |3.0|3.0 |3.0|0.0|0.0                                   |1.0         |0.0         |0.0           |1.0        |0.0         |1.0          |5.0               |1.0           |[1.0,21.0,1.52,56.0,0.0,1.0,3.0,3.0,0.0,1.0,3.0,1.0,3.0,0.0,0.0,0.0]|\n",
            "+----+------+------+----+---+----+---+---+--------------------------------------+------------+------------+--------------+-----------+------------+-------------+------------------+--------------+--------------------------------------------------------------------+\n",
            "only showing top 2 rows\n",
            "\n"
          ]
        }
      ]
    },
    {
      "cell_type": "markdown",
      "source": [
        "## **Split Data**"
      ],
      "metadata": {
        "id": "t20Sv_hcKCRM"
      }
    },
    {
      "cell_type": "code",
      "source": [
        "#To train our model, we combine “features” and “target” as input/output.\n",
        "final_data = output.select('features', 'NObeyesdad_numeric')"
      ],
      "metadata": {
        "id": "49xgXF8KjnYQ"
      },
      "execution_count": null,
      "outputs": []
    },
    {
      "cell_type": "code",
      "source": [
        "#Then, we can split final_data to train and test as follows:\n",
        "train, test = final_data.randomSplit([0.7, 0.3])"
      ],
      "metadata": {
        "id": "3XtUzjLomerp"
      },
      "execution_count": null,
      "outputs": []
    },
    {
      "cell_type": "code",
      "source": [
        "train.show(2, False)"
      ],
      "metadata": {
        "colab": {
          "base_uri": "https://localhost:8080/"
        },
        "id": "jcmW9Oh2VO6q",
        "outputId": "887c8d54-3d0d-46e4-a201-c48d9b88c36f"
      },
      "execution_count": null,
      "outputs": [
        {
          "output_type": "stream",
          "name": "stdout",
          "text": [
            "+------------------------------------------------------------------+------------------+\n",
            "|features                                                          |NObeyesdad_numeric|\n",
            "+------------------------------------------------------------------+------------------+\n",
            "|(16,[0,1,2,3,4,6,7,8,10],[1.0,21.0,1.52,42.0,1.0,3.0,1.0,1.0,1.0])|6.0               |\n",
            "|(16,[0,1,2,3,4,6,7,8,10],[1.0,21.0,1.52,42.0,1.0,3.0,1.0,1.0,1.0])|6.0               |\n",
            "+------------------------------------------------------------------+------------------+\n",
            "only showing top 2 rows\n",
            "\n"
          ]
        }
      ]
    },
    {
      "cell_type": "code",
      "source": [
        "test.show(2, False)"
      ],
      "metadata": {
        "colab": {
          "base_uri": "https://localhost:8080/"
        },
        "id": "RZfDe2oNVSuW",
        "outputId": "997d0f38-b2be-4ed7-abf8-8f3e77a1b680"
      },
      "execution_count": null,
      "outputs": [
        {
          "output_type": "stream",
          "name": "stdout",
          "text": [
            "+------------------------------------------------------------------+------------------+\n",
            "|features                                                          |NObeyesdad_numeric|\n",
            "+------------------------------------------------------------------+------------------+\n",
            "|(16,[0,1,2,3,4,6,7,8,10],[1.0,21.0,1.52,42.0,1.0,3.0,1.0,1.0,1.0])|6.0               |\n",
            "|(16,[0,1,2,3,4,6,7,8,10],[1.0,21.0,1.52,42.0,1.0,3.0,1.0,1.0,1.0])|6.0               |\n",
            "+------------------------------------------------------------------+------------------+\n",
            "only showing top 2 rows\n",
            "\n"
          ]
        }
      ]
    },
    {
      "cell_type": "markdown",
      "source": [
        "# **Classification Experiments**"
      ],
      "metadata": {
        "id": "xSffyXcnKGt1"
      }
    },
    {
      "cell_type": "markdown",
      "source": [
        "## **Logistic Regression**"
      ],
      "metadata": {
        "id": "x7nfzftEqebo"
      }
    },
    {
      "cell_type": "code",
      "source": [
        "from pyspark.ml.classification import LogisticRegression\n",
        "lr = LogisticRegression(featuresCol = 'features',labelCol = \"NObeyesdad_numeric\")\n",
        "model_log = lr.fit(train)"
      ],
      "metadata": {
        "id": "9nPBxuTzFpnV"
      },
      "execution_count": null,
      "outputs": []
    },
    {
      "cell_type": "code",
      "source": [
        "#Train\n",
        "predict_train_log = model_log.transform(train)\n",
        "predict_train_log.groupBy('prediction').count().show()"
      ],
      "metadata": {
        "colab": {
          "base_uri": "https://localhost:8080/"
        },
        "id": "WHqRfy9hFoQL",
        "outputId": "ac86ae03-21d2-4d47-9ca5-061f2c67df75"
      },
      "execution_count": null,
      "outputs": [
        {
          "output_type": "stream",
          "name": "stdout",
          "text": [
            "+----------+-----+\n",
            "|prediction|count|\n",
            "+----------+-----+\n",
            "|       0.0|  264|\n",
            "|       1.0|  221|\n",
            "|       4.0|  202|\n",
            "|       3.0|  208|\n",
            "|       2.0|  202|\n",
            "|       6.0|  188|\n",
            "|       5.0|  163|\n",
            "+----------+-----+\n",
            "\n"
          ]
        }
      ]
    },
    {
      "cell_type": "code",
      "source": [
        "from pyspark.ml.evaluation import MulticlassClassificationEvaluator\n",
        "\n",
        "evaluatorMulti = MulticlassClassificationEvaluator(labelCol=\"NObeyesdad_numeric\", predictionCol=\"prediction\")\n",
        "predictionAndTarget = predict_train_log.select(\"NObeyesdad_numeric\", \"prediction\")\n",
        "\n",
        "acc = evaluatorMulti.evaluate(predictionAndTarget, {evaluatorMulti.metricName: \"accuracy\"})\n",
        "f1 = evaluatorMulti.evaluate(predictionAndTarget, {evaluatorMulti.metricName: \"f1\"})\n",
        "weightedPrecision = evaluatorMulti.evaluate(predictionAndTarget, {evaluatorMulti.metricName: \"weightedPrecision\"})\n",
        "weightedRecall = evaluatorMulti.evaluate(predictionAndTarget, {evaluatorMulti.metricName: \"weightedRecall\"})\n",
        "\n",
        "\n",
        "print(\"Accuracy = \", acc)\n",
        "print(\"Precission = \", weightedPrecision)\n",
        "print(\"F1 Score = \", f1)\n",
        "print(\"Recall = \", weightedRecall)"
      ],
      "metadata": {
        "colab": {
          "base_uri": "https://localhost:8080/"
        },
        "id": "jiRLhKBoFyUg",
        "outputId": "907954c1-4985-47f3-8251-7876260ea89c"
      },
      "execution_count": null,
      "outputs": [
        {
          "output_type": "stream",
          "name": "stdout",
          "text": [
            "Accuracy =  0.8922651933701657\n",
            "Precission =  0.8921708646932092\n",
            "F1 Score =  0.8914202289735079\n",
            "Recall =  0.8922651933701657\n"
          ]
        }
      ]
    },
    {
      "cell_type": "code",
      "source": [
        "#Test\n",
        "predict_test_log  = model_log.transform(test)\n",
        "predict_test_log.show(5)"
      ],
      "metadata": {
        "id": "yfEayecspj0A",
        "colab": {
          "base_uri": "https://localhost:8080/"
        },
        "outputId": "2fa37987-00c2-4787-e69c-9fe0a629e2b2"
      },
      "execution_count": null,
      "outputs": [
        {
          "output_type": "stream",
          "name": "stdout",
          "text": [
            "+--------------------+------------------+--------------------+--------------------+----------+\n",
            "|            features|NObeyesdad_numeric|       rawPrediction|         probability|prediction|\n",
            "+--------------------+------------------+--------------------+--------------------+----------+\n",
            "|(16,[0,1,2,3,4,6,...|               6.0|[-6.7911899365715...|[6.00890304553780...|       6.0|\n",
            "|(16,[0,1,2,3,4,6,...|               6.0|[-6.7911899365715...|[6.00890304553780...|       6.0|\n",
            "|(16,[0,1,2,3,4,6,...|               5.0|[-3.3381031304816...|[4.81760417286245...|       3.0|\n",
            "|(16,[0,1,2,3,4,6,...|               5.0|[-5.1258044549833...|[6.71399434785180...|       6.0|\n",
            "|(16,[0,1,2,3,4,6,...|               5.0|[-4.0767700134274...|[3.55725326482999...|       5.0|\n",
            "+--------------------+------------------+--------------------+--------------------+----------+\n",
            "only showing top 5 rows\n",
            "\n"
          ]
        }
      ]
    },
    {
      "cell_type": "code",
      "source": [
        "predict_test_log.groupBy('prediction').count().show()"
      ],
      "metadata": {
        "colab": {
          "base_uri": "https://localhost:8080/"
        },
        "id": "prI_7kbf6ykf",
        "outputId": "a2147e72-97d0-4192-e3f4-0ed193ccb624"
      },
      "execution_count": null,
      "outputs": [
        {
          "output_type": "stream",
          "name": "stdout",
          "text": [
            "+----------+-----+\n",
            "|prediction|count|\n",
            "+----------+-----+\n",
            "|       0.0|  106|\n",
            "|       1.0|  104|\n",
            "|       4.0|   85|\n",
            "|       3.0|   86|\n",
            "|       2.0|   97|\n",
            "|       6.0|  102|\n",
            "|       5.0|   83|\n",
            "+----------+-----+\n",
            "\n"
          ]
        }
      ]
    },
    {
      "cell_type": "code",
      "source": [
        "from pyspark.ml.evaluation import MulticlassClassificationEvaluator\n",
        "\n",
        "evaluatorMulti = MulticlassClassificationEvaluator(labelCol=\"NObeyesdad_numeric\", predictionCol=\"prediction\")\n",
        "predictionAndTarget = predict_test_log.select(\"NObeyesdad_numeric\", \"prediction\")"
      ],
      "metadata": {
        "id": "7YgCHNS74xTq"
      },
      "execution_count": null,
      "outputs": []
    },
    {
      "cell_type": "code",
      "source": [
        "acc = evaluatorMulti.evaluate(predictionAndTarget, {evaluatorMulti.metricName: \"accuracy\"})\n",
        "f1 = evaluatorMulti.evaluate(predictionAndTarget, {evaluatorMulti.metricName: \"f1\"})\n",
        "weightedPrecision = evaluatorMulti.evaluate(predictionAndTarget, {evaluatorMulti.metricName: \"weightedPrecision\"})\n",
        "weightedRecall = evaluatorMulti.evaluate(predictionAndTarget, {evaluatorMulti.metricName: \"weightedRecall\"})\n",
        "\n",
        "\n",
        "print(\"Accuracy = \", acc)\n",
        "print(\"Precission = \", weightedPrecision)\n",
        "print(\"F1 Score = \", f1)\n",
        "print(\"Recall = \", weightedRecall)"
      ],
      "metadata": {
        "colab": {
          "base_uri": "https://localhost:8080/"
        },
        "id": "zRR75Xtl7Foz",
        "outputId": "193ceb0b-de35-49b3-813e-516f664a5342"
      },
      "execution_count": null,
      "outputs": [
        {
          "output_type": "stream",
          "name": "stdout",
          "text": [
            "Accuracy =  0.8914027149321267\n",
            "Precission =  0.8913490211925605\n",
            "F1 Score =  0.8898511907891172\n",
            "Recall =  0.8914027149321267\n"
          ]
        }
      ]
    },
    {
      "cell_type": "markdown",
      "source": [
        "## **Random** Forest"
      ],
      "metadata": {
        "id": "VIH5OJgXdZ1X"
      }
    },
    {
      "cell_type": "code",
      "source": [
        "from pyspark.ml.classification import RandomForestClassifier\n",
        "rf = RandomForestClassifier(featuresCol = 'features',labelCol = \"NObeyesdad_numeric\", seed = 2500, maxDepth=10, numTrees=30)\n",
        "model=rf.fit(train)"
      ],
      "metadata": {
        "id": "FFD-fCOtGKc8"
      },
      "execution_count": null,
      "outputs": []
    },
    {
      "cell_type": "code",
      "source": [
        "predict_train = model.transform(train)\n",
        "predict_train.groupBy('prediction').count().show()"
      ],
      "metadata": {
        "colab": {
          "base_uri": "https://localhost:8080/"
        },
        "id": "bozsuGgcGMhA",
        "outputId": "a08704c1-0990-45b6-dc4f-81b2cf7b3b9b"
      },
      "execution_count": null,
      "outputs": [
        {
          "output_type": "stream",
          "name": "stdout",
          "text": [
            "+----------+-----+\n",
            "|prediction|count|\n",
            "+----------+-----+\n",
            "|       0.0|   92|\n",
            "|       1.0|  103|\n",
            "|       4.0|   96|\n",
            "|       3.0|   86|\n",
            "|       2.0|   95|\n",
            "|       6.0|   95|\n",
            "|       5.0|   96|\n",
            "+----------+-----+\n",
            "\n"
          ]
        }
      ]
    },
    {
      "cell_type": "code",
      "source": [
        "from pyspark.ml.evaluation import MulticlassClassificationEvaluator\n",
        "\n",
        "evaluatorMulti = MulticlassClassificationEvaluator(labelCol=\"NObeyesdad_numeric\", predictionCol=\"prediction\")\n",
        "predictionAndTarget = predict_train.select(\"NObeyesdad_numeric\", \"prediction\")\n",
        "\n",
        "acc = evaluatorMulti.evaluate(predictionAndTarget, {evaluatorMulti.metricName: \"accuracy\"})\n",
        "f1 = evaluatorMulti.evaluate(predictionAndTarget, {evaluatorMulti.metricName: \"f1\"})\n",
        "weightedPrecision = evaluatorMulti.evaluate(predictionAndTarget, {evaluatorMulti.metricName: \"weightedPrecision\"})\n",
        "weightedRecall = evaluatorMulti.evaluate(predictionAndTarget, {evaluatorMulti.metricName: \"weightedRecall\"})\n",
        "\n",
        "\n",
        "print(\"Accuracy = \", acc)\n",
        "print(\"Precission = \", weightedPrecision)\n",
        "print(\"F1 Score = \", f1)\n",
        "print(\"Recall = \", weightedRecall)"
      ],
      "metadata": {
        "colab": {
          "base_uri": "https://localhost:8080/"
        },
        "id": "HHWaEoL6GTLj",
        "outputId": "2b95012f-5421-408a-86b2-28a7b4c141db"
      },
      "execution_count": null,
      "outputs": [
        {
          "output_type": "stream",
          "name": "stdout",
          "text": [
            "Accuracy =  0.9979281767955801\n",
            "Precission =  0.9979387760022583\n",
            "F1 Score =  0.9979282630660631\n",
            "Recall =  0.9979281767955803\n"
          ]
        }
      ]
    },
    {
      "cell_type": "code",
      "source": [
        "#Test\n",
        "predict_test  = model.transform(test)\n",
        "predict_test.show(20)"
      ],
      "metadata": {
        "id": "En5ycuRoaPAQ",
        "colab": {
          "base_uri": "https://localhost:8080/"
        },
        "outputId": "4d063f00-6a55-4ee5-9f22-e2f162bec911"
      },
      "execution_count": null,
      "outputs": [
        {
          "output_type": "stream",
          "name": "stdout",
          "text": [
            "+--------------------+------------------+--------------------+--------------------+----------+\n",
            "|            features|NObeyesdad_numeric|       rawPrediction|         probability|prediction|\n",
            "+--------------------+------------------+--------------------+--------------------+----------+\n",
            "|(16,[0,1,2,3,4,6,...|               6.0|[0.0,0.0,0.0,0.0,...|[0.0,0.0,0.0,0.0,...|       6.0|\n",
            "|(16,[0,1,2,3,4,6,...|               6.0|[0.0,0.0,0.0,0.0,...|[0.0,0.0,0.0,0.0,...|       6.0|\n",
            "|(16,[0,1,2,3,4,6,...|               5.0|[1.05882352941176...|[0.03529411764705...|       5.0|\n",
            "|(16,[0,1,2,3,4,6,...|               5.0|[0.0,0.0,0.0,2.22...|[0.0,0.0,0.0,0.07...|       5.0|\n",
            "|(16,[0,1,2,3,4,6,...|               5.0|[0.0,0.0,0.0,1.17...|[0.0,0.0,0.0,0.03...|       5.0|\n",
            "|(16,[0,1,2,3,4,6,...|               5.0|[0.0,0.0,0.0,2.05...|[0.0,0.0,0.0,0.06...|       5.0|\n",
            "|(16,[0,1,2,3,4,6,...|               3.0|[1.89189189189189...|[0.06306306306306...|       5.0|\n",
            "|(16,[0,1,2,3,4,6,...|               6.0|[0.6,0.0,0.0,1.0,...|[0.02,0.0,0.0,0.0...|       6.0|\n",
            "|(16,[0,1,2,3,4,6,...|               6.0|[0.6,0.0,0.0,1.0,...|[0.02,0.0,0.0,0.0...|       6.0|\n",
            "|(16,[0,1,2,3,4,6,...|               5.0|[1.52637465051258...|[0.05087915501708...|       3.0|\n",
            "|(16,[0,1,2,3,4,6,...|               3.0|[1.09090909090909...|[0.03636363636363...|       3.0|\n",
            "|(16,[0,1,2,3,5,6,...|               5.0|[1.0,0.0,0.0,2.43...|[0.03333333333333...|       5.0|\n",
            "|(16,[0,1,2,3,5,6,...|               4.0|[4.0,0.0,0.0,8.91...|[0.13333333333333...|       4.0|\n",
            "|(16,[0,1,2,3,6,7,...|               5.0|[2.76666666666666...|[0.09222222222222...|       5.0|\n",
            "|(16,[0,1,2,3,6,7,...|               5.0|[1.8,0.0,0.0,1.75...|[0.06000000000000...|       5.0|\n",
            "|(16,[0,1,2,3,6,7,...|               5.0|[0.0,0.0,0.0,2.66...|[0.0,0.0,0.0,0.08...|       5.0|\n",
            "|(16,[0,1,2,3,6,7,...|               5.0|[0.0,0.0,0.0,3.0,...|[0.0,0.0,0.0,0.1,...|       6.0|\n",
            "|(16,[0,1,2,3,6,7,...|               4.0|[5.29233048838312...|[0.17641101627943...|       3.0|\n",
            "|(16,[0,1,2,3,6,7,...|               3.0|[6.18708442193015...|[0.20623614739767...|       3.0|\n",
            "|(16,[0,1,2,3,6,7,...|               3.0|[2.76477591036414...|[0.09215919701213...|       3.0|\n",
            "+--------------------+------------------+--------------------+--------------------+----------+\n",
            "only showing top 20 rows\n",
            "\n"
          ]
        }
      ]
    },
    {
      "cell_type": "code",
      "source": [
        "predict_test.groupBy('prediction').count().show()"
      ],
      "metadata": {
        "colab": {
          "base_uri": "https://localhost:8080/"
        },
        "id": "h4cUSUhJ49Yv",
        "outputId": "0bb374f7-ddb2-42bd-d291-3338916318ae"
      },
      "execution_count": null,
      "outputs": [
        {
          "output_type": "stream",
          "name": "stdout",
          "text": [
            "+----------+-----+\n",
            "|prediction|count|\n",
            "+----------+-----+\n",
            "|       0.0|   92|\n",
            "|       1.0|  103|\n",
            "|       4.0|   96|\n",
            "|       3.0|   86|\n",
            "|       2.0|   95|\n",
            "|       6.0|   95|\n",
            "|       5.0|   96|\n",
            "+----------+-----+\n",
            "\n"
          ]
        }
      ]
    },
    {
      "cell_type": "code",
      "source": [
        "from pyspark.ml.evaluation import MulticlassClassificationEvaluator\n",
        "\n",
        "evaluatorMulti = MulticlassClassificationEvaluator(labelCol=\"NObeyesdad_numeric\", predictionCol=\"prediction\")\n",
        "predictionAndTarget = predict_test.select(\"NObeyesdad_numeric\", \"prediction\")"
      ],
      "metadata": {
        "id": "KsPGDTes5CWF"
      },
      "execution_count": null,
      "outputs": []
    },
    {
      "cell_type": "code",
      "source": [
        "acc = evaluatorMulti.evaluate(predictionAndTarget, {evaluatorMulti.metricName: \"accuracy\"})\n",
        "f1 = evaluatorMulti.evaluate(predictionAndTarget, {evaluatorMulti.metricName: \"f1\"})\n",
        "weightedPrecision = evaluatorMulti.evaluate(predictionAndTarget, {evaluatorMulti.metricName: \"weightedPrecision\"})\n",
        "weightedRecall = evaluatorMulti.evaluate(predictionAndTarget, {evaluatorMulti.metricName: \"weightedRecall\"})\n",
        "\n",
        "\n",
        "print(\"Accuracy = \", acc)\n",
        "print(\"Precission = \", weightedPrecision)\n",
        "print(\"F1 Score = \", f1)\n",
        "print(\"Recall = \", weightedRecall)"
      ],
      "metadata": {
        "colab": {
          "base_uri": "https://localhost:8080/"
        },
        "id": "TcQ3lTlT5XqP",
        "outputId": "c79d8d00-c127-4f6d-e3df-4495f4463c41"
      },
      "execution_count": null,
      "outputs": [
        {
          "output_type": "stream",
          "name": "stdout",
          "text": [
            "Accuracy =  0.9351432880844646\n",
            "Precission =  0.935809777735825\n",
            "F1 Score =  0.9352609919866893\n",
            "Recall =  0.9351432880844646\n"
          ]
        }
      ]
    },
    {
      "cell_type": "markdown",
      "source": [
        "## **Decision Tree**"
      ],
      "metadata": {
        "id": "llUWncCgKWgZ"
      }
    },
    {
      "cell_type": "code",
      "source": [
        "#Decision Tree\n",
        "from pyspark.ml.classification import DecisionTreeClassifier\n",
        "dt = DecisionTreeClassifier(maxDepth=2, labelCol='NObeyesdad_numeric',featuresCol='features')\n",
        "model_dt= dt.fit(train)"
      ],
      "metadata": {
        "id": "Oo3te6n4G30x"
      },
      "execution_count": null,
      "outputs": []
    },
    {
      "cell_type": "code",
      "source": [
        "#Train\n",
        "predictions_train = model_dt.transform(train)\n",
        "predictions_train.show(10)"
      ],
      "metadata": {
        "colab": {
          "base_uri": "https://localhost:8080/"
        },
        "id": "sw7_CPQsG5if",
        "outputId": "7cfc267c-1ffb-4ead-a34f-c8dd99f914b2"
      },
      "execution_count": null,
      "outputs": [
        {
          "output_type": "stream",
          "name": "stdout",
          "text": [
            "+--------------------+------------------+--------------------+--------------------+----------+\n",
            "|            features|NObeyesdad_numeric|       rawPrediction|         probability|prediction|\n",
            "+--------------------+------------------+--------------------+--------------------+----------+\n",
            "|(16,[0,1,2,3,4,6,...|               6.0|[0.0,0.0,0.0,11.0...|[0.0,0.0,0.0,0.04...|       6.0|\n",
            "|(16,[0,1,2,3,4,6,...|               6.0|[0.0,0.0,0.0,11.0...|[0.0,0.0,0.0,0.04...|       6.0|\n",
            "|(16,[0,1,2,3,4,6,...|               6.0|[0.0,0.0,0.0,11.0...|[0.0,0.0,0.0,0.04...|       6.0|\n",
            "|(16,[0,1,2,3,4,6,...|               5.0|[180.0,0.0,3.0,19...|[0.26470588235294...|       3.0|\n",
            "|(16,[0,1,2,3,4,6,...|               5.0|[0.0,0.0,0.0,11.0...|[0.0,0.0,0.0,0.04...|       6.0|\n",
            "|(16,[0,1,2,3,4,6,...|               3.0|[180.0,0.0,3.0,19...|[0.26470588235294...|       3.0|\n",
            "|(16,[0,1,2,3,4,6,...|               5.0|[0.0,0.0,0.0,11.0...|[0.0,0.0,0.0,0.04...|       6.0|\n",
            "|(16,[0,1,2,3,4,6,...|               5.0|[0.0,0.0,0.0,11.0...|[0.0,0.0,0.0,0.04...|       6.0|\n",
            "|(16,[0,1,2,3,4,6,...|               5.0|[0.0,0.0,0.0,11.0...|[0.0,0.0,0.0,0.04...|       6.0|\n",
            "|(16,[0,1,2,3,4,6,...|               3.0|[180.0,0.0,3.0,19...|[0.26470588235294...|       3.0|\n",
            "+--------------------+------------------+--------------------+--------------------+----------+\n",
            "only showing top 10 rows\n",
            "\n"
          ]
        }
      ]
    },
    {
      "cell_type": "code",
      "source": [
        "predictions_train.groupBy('prediction').count().show()"
      ],
      "metadata": {
        "colab": {
          "base_uri": "https://localhost:8080/"
        },
        "id": "BpSfoblDHBUR",
        "outputId": "24898b43-8472-424a-b68a-caa59945e496"
      },
      "execution_count": null,
      "outputs": [
        {
          "output_type": "stream",
          "name": "stdout",
          "text": [
            "+----------+-----+\n",
            "|prediction|count|\n",
            "+----------+-----+\n",
            "|       1.0|  221|\n",
            "|       3.0|  680|\n",
            "|       2.0|  277|\n",
            "|       6.0|  270|\n",
            "+----------+-----+\n",
            "\n"
          ]
        }
      ]
    },
    {
      "cell_type": "code",
      "source": [
        "from pyspark.ml.evaluation import MulticlassClassificationEvaluator\n",
        "\n",
        "evaluatorMulti = MulticlassClassificationEvaluator(labelCol=\"NObeyesdad_numeric\", predictionCol=\"prediction\")\n",
        "predictionAndTarget4 = predictions_train.select(\"NObeyesdad_numeric\", \"prediction\")"
      ],
      "metadata": {
        "id": "XwwtFgwpHZLB"
      },
      "execution_count": null,
      "outputs": []
    },
    {
      "cell_type": "code",
      "source": [
        "acc = evaluatorMulti.evaluate(predictionAndTarget4, {evaluatorMulti.metricName: \"accuracy\"})\n",
        "f1 = evaluatorMulti.evaluate(predictionAndTarget4, {evaluatorMulti.metricName: \"f1\"})\n",
        "weightedPrecision = evaluatorMulti.evaluate(predictionAndTarget4, {evaluatorMulti.metricName: \"weightedPrecision\"})\n",
        "weightedRecall = evaluatorMulti.evaluate(predictionAndTarget4, {evaluatorMulti.metricName: \"weightedRecall\"})\n",
        "\n",
        "\n",
        "print(\"Accuracy = \", acc)\n",
        "print(\"Precission = \", weightedPrecision)\n",
        "print(\"F1 Score = \", f1)\n",
        "print(\"Recall = \", weightedRecall)"
      ],
      "metadata": {
        "colab": {
          "base_uri": "https://localhost:8080/"
        },
        "id": "HGX33ZwbHcCm",
        "outputId": "ce351606-c75c-49da-c1e4-8ac6e5671fc5"
      },
      "execution_count": null,
      "outputs": [
        {
          "output_type": "stream",
          "name": "stdout",
          "text": [
            "Accuracy =  0.5462707182320442\n",
            "Precission =  0.3738480800498373\n",
            "F1 Score =  0.42796381312438225\n",
            "Recall =  0.5462707182320441\n"
          ]
        }
      ]
    },
    {
      "cell_type": "code",
      "source": [
        "#Test\n",
        "predictions_test = model.transform(test)\n",
        "predictions_test.show(10)"
      ],
      "metadata": {
        "colab": {
          "base_uri": "https://localhost:8080/"
        },
        "id": "aeuZgjQ9KZWc",
        "outputId": "28037bbf-284e-4b1a-a333-ac45efe03603"
      },
      "execution_count": null,
      "outputs": [
        {
          "output_type": "stream",
          "name": "stdout",
          "text": [
            "+--------------------+------------------+--------------------+--------------------+----------+\n",
            "|            features|NObeyesdad_numeric|       rawPrediction|         probability|prediction|\n",
            "+--------------------+------------------+--------------------+--------------------+----------+\n",
            "|(16,[0,1,2,3,4,6,...|               6.0|[0.0,0.0,0.0,0.0,...|[0.0,0.0,0.0,0.0,...|       6.0|\n",
            "|(16,[0,1,2,3,4,6,...|               6.0|[0.0,0.0,0.0,0.0,...|[0.0,0.0,0.0,0.0,...|       6.0|\n",
            "|(16,[0,1,2,3,4,6,...|               5.0|[1.05882352941176...|[0.03529411764705...|       5.0|\n",
            "|(16,[0,1,2,3,4,6,...|               5.0|[0.0,0.0,0.0,2.22...|[0.0,0.0,0.0,0.07...|       5.0|\n",
            "|(16,[0,1,2,3,4,6,...|               5.0|[0.0,0.0,0.0,1.17...|[0.0,0.0,0.0,0.03...|       5.0|\n",
            "|(16,[0,1,2,3,4,6,...|               5.0|[0.0,0.0,0.0,2.05...|[0.0,0.0,0.0,0.06...|       5.0|\n",
            "|(16,[0,1,2,3,4,6,...|               3.0|[1.89189189189189...|[0.06306306306306...|       5.0|\n",
            "|(16,[0,1,2,3,4,6,...|               6.0|[0.6,0.0,0.0,1.0,...|[0.02,0.0,0.0,0.0...|       6.0|\n",
            "|(16,[0,1,2,3,4,6,...|               6.0|[0.6,0.0,0.0,1.0,...|[0.02,0.0,0.0,0.0...|       6.0|\n",
            "|(16,[0,1,2,3,4,6,...|               5.0|[1.52637465051258...|[0.05087915501708...|       3.0|\n",
            "+--------------------+------------------+--------------------+--------------------+----------+\n",
            "only showing top 10 rows\n",
            "\n"
          ]
        }
      ]
    },
    {
      "cell_type": "code",
      "source": [
        "predictions_test.groupBy('prediction').count().show()"
      ],
      "metadata": {
        "colab": {
          "base_uri": "https://localhost:8080/"
        },
        "id": "9weErwaSKtGu",
        "outputId": "1682ac68-6c74-489a-af09-e855274e54d8"
      },
      "execution_count": null,
      "outputs": [
        {
          "output_type": "stream",
          "name": "stdout",
          "text": [
            "+----------+-----+\n",
            "|prediction|count|\n",
            "+----------+-----+\n",
            "|       0.0|   92|\n",
            "|       1.0|  103|\n",
            "|       4.0|   96|\n",
            "|       3.0|   86|\n",
            "|       2.0|   95|\n",
            "|       6.0|   95|\n",
            "|       5.0|   96|\n",
            "+----------+-----+\n",
            "\n"
          ]
        }
      ]
    },
    {
      "cell_type": "code",
      "source": [
        "from pyspark.ml.evaluation import MulticlassClassificationEvaluator\n",
        "\n",
        "evaluatorMulti = MulticlassClassificationEvaluator(labelCol=\"NObeyesdad_numeric\", predictionCol=\"prediction\")\n",
        "predictionAndTarget3 = predictions_test.select(\"NObeyesdad_numeric\", \"prediction\")"
      ],
      "metadata": {
        "id": "p9MD0vdLKwqC"
      },
      "execution_count": null,
      "outputs": []
    },
    {
      "cell_type": "code",
      "source": [
        "acc = evaluatorMulti.evaluate(predictionAndTarget3, {evaluatorMulti.metricName: \"accuracy\"})\n",
        "f1 = evaluatorMulti.evaluate(predictionAndTarget3, {evaluatorMulti.metricName: \"f1\"})\n",
        "weightedPrecision = evaluatorMulti.evaluate(predictionAndTarget3, {evaluatorMulti.metricName: \"weightedPrecision\"})\n",
        "weightedRecall = evaluatorMulti.evaluate(predictionAndTarget3, {evaluatorMulti.metricName: \"weightedRecall\"})\n",
        "\n",
        "\n",
        "print(\"Accuracy = \", acc)\n",
        "print(\"Precission = \", weightedPrecision)\n",
        "print(\"F1 Score = \", f1)\n",
        "print(\"Recall = \", weightedRecall)"
      ],
      "metadata": {
        "colab": {
          "base_uri": "https://localhost:8080/"
        },
        "id": "zP_9jMijK-Ax",
        "outputId": "f5660e51-6639-4fed-fc2b-77ec92aaf8fc"
      },
      "execution_count": null,
      "outputs": [
        {
          "output_type": "stream",
          "name": "stdout",
          "text": [
            "Accuracy =  0.9351432880844646\n",
            "Precission =  0.935809777735825\n",
            "F1 Score =  0.9352609919866893\n",
            "Recall =  0.9351432880844646\n"
          ]
        }
      ]
    }
  ]
}